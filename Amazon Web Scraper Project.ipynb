{
 "cells": [
  {
   "cell_type": "code",
   "execution_count": 2,
   "id": "4b8800be",
   "metadata": {},
   "outputs": [],
   "source": [
    "# Import libraries\n",
    "\n",
    "from bs4 import BeautifulSoup\n",
    "import requests\n",
    "import time\n",
    "import datetime\n",
    "\n",
    "import smtplib"
   ]
  },
  {
   "cell_type": "code",
   "execution_count": 31,
   "id": "6992d0b6",
   "metadata": {},
   "outputs": [
    {
     "name": "stdout",
     "output_type": "stream",
     "text": [
      "\n",
      "                   STAR WARS Men's The Mandalorian The Child Purple Swirl T-Shirt\n",
      "                  \n",
      "\n",
      "                    25 ratings\n",
      "                   \n"
     ]
    }
   ],
   "source": [
    "# Connect to website\n",
    "\n",
    "URL = 'https://www.amazon.com/Fifth-Sun-T-Shirt-Black-Large/dp/B081W1694G/ref=sr_1_1?keywords=t-shirts+baby+yoda&qid=1642142473&s=apparel&sr=1-1'\n",
    "\n",
    "\n",
    "headers = {\"User-Agent\": \"Mozilla/5.0 (Windows NT 10.0; Win64; x64) AppleWebKit/537.36 (KHTML, like Gecko) Chrome/97.0.4692.71 Safari/537.36\", \n",
    "    \"X-Amzn-Trace-Id\": \"Root=1-61e11bd6-65ccfe570ff556a3641d6533\"}\n",
    "\n",
    "page = requests.get(URL, headers = headers)\n",
    "\n",
    "Soup1 = BeautifulSoup(page.content, \"html.parser\")\n",
    "\n",
    "Soup2 = BeautifulSoup(Soup1.prettify(), \"html.parser\")\n",
    "\n",
    "title = Soup2.find(id='productTitle').get_text()\n",
    "\n",
    "numOfRatings = Soup2.find(id='acrCustomerReviewText').get_text()\n",
    "\n",
    "print(title)\n",
    "print(numOfRatings)\n"
   ]
  },
  {
   "cell_type": "code",
   "execution_count": 32,
   "id": "907320b0",
   "metadata": {},
   "outputs": [
    {
     "name": "stdout",
     "output_type": "stream",
     "text": [
      "STAR WARS Men's The Mandalorian The Child Purple Swirl T-Shirt\n",
      "25\n",
      "2022-01-14\n"
     ]
    }
   ],
   "source": [
    "num = numOfRatings.strip()[:2]\n",
    "title = title.strip()\n",
    "\n",
    "print(title)\n",
    "print(num)\n",
    "\n",
    "import datetime\n",
    "today = datetime.date.today()\n",
    "\n",
    "print(today)\n",
    "\n",
    "#type(num)"
   ]
  },
  {
   "cell_type": "code",
   "execution_count": 39,
   "id": "d8c6cd35",
   "metadata": {},
   "outputs": [],
   "source": [
    "import csv\n",
    "\n",
    "\n",
    "header = ['Title','Number of Ratings','Date']\n",
    "data = [title, num, today]\n",
    "\n",
    "#type(data)\n",
    "\n",
    "\n",
    "with open('AmazonWebScraper.csv', 'w', newline = '', encoding = 'UTF8') as f:\n",
    "    \n",
    "    writer = csv.writer(f)\n",
    "    writer.writerow(header)\n",
    "    writer.writerow(data)\n",
    "    "
   ]
  },
  {
   "cell_type": "code",
   "execution_count": 40,
   "id": "1e145ead",
   "metadata": {},
   "outputs": [
    {
     "name": "stdout",
     "output_type": "stream",
     "text": [
      "                                               Title  Number of Ratings  \\\n",
      "0  STAR WARS Men's The Mandalorian The Child Purp...                 25   \n",
      "\n",
      "         Date  \n",
      "0  2022-01-14  \n"
     ]
    }
   ],
   "source": [
    "import pandas as pd\n",
    "\n",
    "dataframe = pd.read_csv(r'C:\\Users\\User\\AmazonWebScraper.csv')\n",
    "\n",
    "print(dataframe)\n",
    "\n"
   ]
  },
  {
   "cell_type": "code",
   "execution_count": null,
   "id": "d29c7b0b",
   "metadata": {},
   "outputs": [],
   "source": [
    "# Appending data to csv\n",
    "\n",
    "with open('AmazonWebScraper.csv', 'a+', newline = '', encoding = 'UTF8') as f:\n",
    "    \n",
    "    writer = csv.writer(f)\n",
    "    writer.writerow(data)\n",
    "    \n",
    "    "
   ]
  },
  {
   "cell_type": "code",
   "execution_count": 43,
   "id": "a93c4858",
   "metadata": {},
   "outputs": [],
   "source": [
    "def check_num():\n",
    "    URL = 'https://www.amazon.com/Fifth-Sun-T-Shirt-Black-Large/dp/B081W1694G/ref=sr_1_1?keywords=t-shirts+baby+yoda&qid=1642142473&s=apparel&sr=1-1'\n",
    "\n",
    "\n",
    "    headers = {\"User-Agent\": \"Mozilla/5.0 (Windows NT 10.0; Win64; x64) AppleWebKit/537.36 (KHTML, like Gecko) Chrome/97.0.4692.71 Safari/537.36\", \n",
    "    \"X-Amzn-Trace-Id\": \"Root=1-61e11bd6-65ccfe570ff556a3641d6533\"}\n",
    "\n",
    "    page = requests.get(URL, headers = headers)\n",
    "\n",
    "    Soup1 = BeautifulSoup(page.content, \"html.parser\")\n",
    "\n",
    "    Soup2 = BeautifulSoup(Soup1.prettify(), \"html.parser\")\n",
    "\n",
    "    title = Soup2.find(id='productTitle').get_text()\n",
    "\n",
    "    numOfRatings = Soup2.find(id='acrCustomerReviewText').get_text()\n",
    "    \n",
    "    \n",
    "    num = numOfRatings.strip()[:2]\n",
    "    title = title.strip()\n",
    "    \n",
    "    import datetime\n",
    "    today = datetime.date.today()\n",
    "    \n",
    "    \n",
    "    import csv\n",
    "    header = ['Title','Number of Ratings','Date']\n",
    "    data = [title, num, today]\n",
    "    \n",
    "    \n",
    "    with open('AmazonWebScraper.csv', 'a+', newline = '', encoding = 'UTF8') as f:\n",
    "        writer = csv.writer(f)\n",
    "        writer.writerow(data)\n",
    "   \n",
    "    if(num > 50):\n",
    "        send_mail()\n",
    "\n"
   ]
  },
  {
   "cell_type": "code",
   "execution_count": null,
   "id": "d31f9fa7",
   "metadata": {},
   "outputs": [],
   "source": [
    "while(True):\n",
    "    check_num()\n",
    "    time.sleep(604800)"
   ]
  },
  {
   "cell_type": "code",
   "execution_count": null,
   "id": "56dd7711",
   "metadata": {},
   "outputs": [],
   "source": [
    "import pandas as pd\n",
    "\n",
    "dataframe = pd.read_csv(r'C:\\Users\\User\\AmazonWebScraper.csv')\n",
    "\n",
    "print(dataframe)"
   ]
  },
  {
   "cell_type": "code",
   "execution_count": null,
   "id": "41596f47",
   "metadata": {},
   "outputs": [],
   "source": [
    "def send_mail():\n",
    "    server = smtplib.SMTP_SSL('smtp.gmail.com',465)\n",
    "    server.ehlo()\n",
    "    \n",
    "    #server.starttls()\n",
    "    server.ehlo()\n",
    "    server.login('ana.pintera9@gmail.com','xxxxxxxxxx')\n",
    "    \n",
    "    subject = \"The Shirt has more than 50 reviews\"\n",
    "    body = \"You can buy it till price goes up\"\n",
    "    msg = f\"Subject: {subject}\\n\\n{body}\"\n",
    "    \n",
    "    server.sendmail(\n",
    "        'ana.pintera9@gmail.com',\n",
    "        msg\n",
    "     \n",
    "    )"
   ]
  }
 ],
 "metadata": {
  "kernelspec": {
   "display_name": "Python 3 (ipykernel)",
   "language": "python",
   "name": "python3"
  },
  "language_info": {
   "codemirror_mode": {
    "name": "ipython",
    "version": 3
   },
   "file_extension": ".py",
   "mimetype": "text/x-python",
   "name": "python",
   "nbconvert_exporter": "python",
   "pygments_lexer": "ipython3",
   "version": "3.9.7"
  }
 },
 "nbformat": 4,
 "nbformat_minor": 5
}
